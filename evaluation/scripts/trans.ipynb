{
 "cells": [
  {
   "cell_type": "code",
   "execution_count": null,
   "metadata": {},
   "outputs": [],
   "source": [
    "import pandas as pd\n",
    "import json\n",
    "import os\n"
   ]
  },
  {
   "cell_type": "code",
   "execution_count": null,
   "metadata": {},
   "outputs": [
    {
     "name": "stderr",
     "output_type": "stream",
     "text": [
      "<>:2: SyntaxWarning: invalid escape sequence '\\m'\n",
      "<>:3: SyntaxWarning: invalid escape sequence '\\m'\n",
      "<>:2: SyntaxWarning: invalid escape sequence '\\m'\n",
      "<>:3: SyntaxWarning: invalid escape sequence '\\m'\n",
      "C:\\Users\\KT\\AppData\\Local\\Temp\\ipykernel_4484\\266473715.py:2: SyntaxWarning: invalid escape sequence '\\m'\n",
      "  input_folder = 'Llama_kt_2.0_chat\\math'  # JSONL 파일들이 있는 폴더 경로\n",
      "C:\\Users\\KT\\AppData\\Local\\Temp\\ipykernel_4484\\266473715.py:3: SyntaxWarning: invalid escape sequence '\\m'\n",
      "  output_folder = 'Llama_kt_2.0_chat\\math\\log'  # 변환된 엑셀 파일을 저장할 폴더 경로\n"
     ]
    },
    {
     "name": "stdout",
     "output_type": "stream",
     "text": [
      "results_2025-02-03T18-12-56.137040.json 파일이 변환되었습니다: Llama_kt_2.0_chat\\math\\log\\results_2025-02-03T18-12-56.137040.xlsx\n",
      "samples_leaderboard_math_algebra_hard_2025-02-03T18-12-56.137040.jsonl 파일이 변환되었습니다: Llama_kt_2.0_chat\\math\\log\\samples_leaderboard_math_algebra_hard_2025-02-03T18-12-56.137040.xlsx\n",
      "samples_leaderboard_math_counting_and_prob_hard_2025-02-03T18-12-56.137040.jsonl 파일이 변환되었습니다: Llama_kt_2.0_chat\\math\\log\\samples_leaderboard_math_counting_and_prob_hard_2025-02-03T18-12-56.137040.xlsx\n",
      "samples_leaderboard_math_geometry_hard_2025-02-03T18-12-56.137040.jsonl 파일이 변환되었습니다: Llama_kt_2.0_chat\\math\\log\\samples_leaderboard_math_geometry_hard_2025-02-03T18-12-56.137040.xlsx\n",
      "samples_leaderboard_math_intermediate_algebra_hard_2025-02-03T18-12-56.137040.jsonl 파일이 변환되었습니다: Llama_kt_2.0_chat\\math\\log\\samples_leaderboard_math_intermediate_algebra_hard_2025-02-03T18-12-56.137040.xlsx\n",
      "samples_leaderboard_math_num_theory_hard_2025-02-03T18-12-56.137040.jsonl 파일이 변환되었습니다: Llama_kt_2.0_chat\\math\\log\\samples_leaderboard_math_num_theory_hard_2025-02-03T18-12-56.137040.xlsx\n",
      "samples_leaderboard_math_prealgebra_hard_2025-02-03T18-12-56.137040.jsonl 파일이 변환되었습니다: Llama_kt_2.0_chat\\math\\log\\samples_leaderboard_math_prealgebra_hard_2025-02-03T18-12-56.137040.xlsx\n",
      "samples_leaderboard_math_precalculus_hard_2025-02-03T18-12-56.137040.jsonl 파일이 변환되었습니다: Llama_kt_2.0_chat\\math\\log\\samples_leaderboard_math_precalculus_hard_2025-02-03T18-12-56.137040.xlsx\n",
      "모든 JSONL 파일이 엑셀로 변환되었습니다.\n"
     ]
    }
   ],
   "source": [
    "# JSONL 파일들이 있는 폴더 경로와 출력 폴더 경로\n",
    "input_folder = 'Ko-Sovereign\\category_test'  # JSONL 파일들이 있는 폴더 경로\n",
    "output_folder = 'Ko-Sovereign\\category_test\\log'  # 변환된 엑셀 파일을 저장할 폴더 경로\n",
    "\n",
    "# 출력 폴더가 없으면 생성\n",
    "os.makedirs(output_folder, exist_ok=True)\n",
    "\n",
    "# 폴더 내 모든 파일을 순회\n",
    "for file_name in os.listdir(input_folder):\n",
    "    if file_name.endswith('.jsonl') or file_name.endswith('.json'):  # 확장자가 .jsonl인 파일만 처리\n",
    "        input_file_path = os.path.join(input_folder, file_name)\n",
    "        output_file_path = os.path.join(output_folder, file_name.replace('.jsonl', '.xlsx').replace('.json', '.xlsx'))\n",
    "        \n",
    "        # JSONL 파일 읽기\n",
    "        data = []\n",
    "        with open(input_file_path, 'r', encoding='utf-8-sig') as file:\n",
    "            if file_name.endswith('.jsonl'):\n",
    "                # JSONL: 각 줄이 독립된 JSON 객체\n",
    "                for line in file:\n",
    "                    data.append(json.loads(line.strip()))\n",
    "            elif file_name.endswith('.json'):\n",
    "                # JSON: 전체 파일이 하나의 JSON 객체(리스트 또는 딕셔너리)로 저장\n",
    "                data = json.load(file)\n",
    "                # JSON 파일이 딕셔너리라면 리스트로 변환 (엑셀 저장을 위해)\n",
    "                if isinstance(data, dict):\n",
    "                    data = [data]  # 단일 딕셔너리를 리스트로 감싸기\n",
    "\n",
    "        # 데이터프레임 생성\n",
    "        df = pd.DataFrame(data)\n",
    "\n",
    "        # 데이터프레임을 엑셀 파일로 저장\n",
    "        df.to_excel(output_file_path, index=False)\n",
    "\n",
    "        print(f\"{file_name} 파일이 변환되었습니다: {output_file_path}\")\n",
    "\n",
    "print(\"모든 JSONL 파일이 엑셀로 변환되었습니다.\")"
   ]
  }
 ],
 "metadata": {
  "kernelspec": {
   "display_name": ".venv",
   "language": "python",
   "name": "python3"
  },
  "language_info": {
   "codemirror_mode": {
    "name": "ipython",
    "version": 3
   },
   "file_extension": ".py",
   "mimetype": "text/x-python",
   "name": "python",
   "nbconvert_exporter": "python",
   "pygments_lexer": "ipython3",
   "version": "3.13.2"
  }
 },
 "nbformat": 4,
 "nbformat_minor": 2
}
